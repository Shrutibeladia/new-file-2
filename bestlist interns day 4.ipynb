{
 "cells": [
  {
   "cell_type": "markdown",
   "metadata": {},
   "source": [
    "# Task-4"
   ]
  },
  {
   "cell_type": "code",
   "execution_count": 1,
   "metadata": {},
   "outputs": [
    {
     "name": "stdout",
     "output_type": "stream",
     "text": [
      "[1, 2, 3, 4, 10, 5, 6, 7]\n",
      "['z', 'a', 'b', 'c', 'd', 'e']\n"
     ]
    }
   ],
   "source": [
    "list1 = [ 1, 2, 3, 4, 5, 6, 7 ]  \n",
    "  \n",
    "# insert 10 at 4th index  \n",
    "list1.insert(4, 10)  \n",
    "print(list1)  \n",
    "  \n",
    "list2 = ['a', 'b', 'c', 'd', 'e']  \n",
    "  \n",
    "# insert z at the front of the list \n",
    "list2.insert(0, 'z') \n",
    "print(list2)  "
   ]
  },
  {
   "cell_type": "code",
   "execution_count": 2,
   "metadata": {},
   "outputs": [
    {
     "name": "stdout",
     "output_type": "stream",
     "text": [
      "['b', 'c', 'd']\n"
     ]
    }
   ],
   "source": [
    "list2 = [ 'a', 'b', 'c', 'd' ]  \n",
    "list2.remove('a')  \n",
    "print(list2) "
   ]
  },
  {
   "cell_type": "code",
   "execution_count": 3,
   "metadata": {},
   "outputs": [
    {
     "name": "stdout",
     "output_type": "stream",
     "text": [
      "Largest element is:  52\n"
     ]
    }
   ],
   "source": [
    "a=[18, 52, 23, 41, 32]\n",
    "a.sort()\n",
    "ln = a[-1]\n",
    "print(\"Largest element is: \",ln)"
   ]
  },
  {
   "cell_type": "code",
   "execution_count": 4,
   "metadata": {},
   "outputs": [
    {
     "name": "stdout",
     "output_type": "stream",
     "text": [
      "Smallest element is: 4\n"
     ]
    }
   ],
   "source": [
    "list1 = [10, 20, 4, 45, 99] \n",
    "  \n",
    "# sorting the list \n",
    "list1.sort() \n",
    "  \n",
    "# printing the first element \n",
    "print(\"Smallest element is:\", *list1[:1])"
   ]
  },
  {
   "cell_type": "code",
   "execution_count": 2,
   "metadata": {},
   "outputs": [
    {
     "name": "stdout",
     "output_type": "stream",
     "text": [
      "('k', 'r', 'r', 'c', 'f', 't', 'a', 'z')\n"
     ]
    }
   ],
   "source": [
    "def Reverse(tuples): \n",
    "    new_tup = tuples[::-1] \n",
    "    return new_tup \n",
    "tuples = ('z','a','t','f','c','r','r','k') \n",
    "print(Reverse(tuples)) "
   ]
  },
  {
   "cell_type": "code",
   "execution_count": 5,
   "metadata": {},
   "outputs": [
    {
     "name": "stdout",
     "output_type": "stream",
     "text": [
      "The original list of tuples : [(1, 2), (6, 7), (8, 4)]\n",
      "The converted list of list : [[1, 2], [6, 7], [8, 4]]\n"
     ]
    }
   ],
   "source": [
    "\n",
    "# convert list of tuples to list \n",
    "# using list comprehension \n",
    "  \n",
    "# initializing list  \n",
    "test_list = [(1, 2), (6, 7), (8, 4)] \n",
    "  \n",
    "# printing original list  \n",
    "print(\"The original list of tuples : \" + str(test_list)) \n",
    "  \n",
    "# using list comprehension \n",
    "# convert list of tuples to list of list \n",
    "res = [list(ele) for ele in test_list] \n",
    "print(\"The converted list of list : \" + str(res)) "
   ]
  },
  {
   "cell_type": "code",
   "execution_count": null,
   "metadata": {},
   "outputs": [],
   "source": []
  },
  {
   "cell_type": "code",
   "execution_count": null,
   "metadata": {},
   "outputs": [],
   "source": []
  }
 ],
 "metadata": {
  "kernelspec": {
   "display_name": "Python 3",
   "language": "python",
   "name": "python3"
  },
  "language_info": {
   "codemirror_mode": {
    "name": "ipython",
    "version": 3
   },
   "file_extension": ".py",
   "mimetype": "text/x-python",
   "name": "python",
   "nbconvert_exporter": "python",
   "pygments_lexer": "ipython3",
   "version": "3.8.5"
  }
 },
 "nbformat": 4,
 "nbformat_minor": 4
}
